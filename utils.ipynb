{
 "cells": [
  {
   "cell_type": "markdown",
   "id": "d20f24a6-7612-45af-973f-9cbc37a47475",
   "metadata": {},
   "source": [
    "# YOLO 项目的“工具箱”"
   ]
  },
  {
   "cell_type": "markdown",
   "id": "cd2321b9-1c72-40d3-a74b-22111a2ee85c",
   "metadata": {},
   "source": [
    "这个脚本是 YOLO目标检测项目中常见的一个工具函数脚本。它的作用是为主程序（如训练、推理等）提供常用的辅助函数，方便图像预处理、模型配置、种子设置等操作的统一管理和调用。"
   ]
  },
  {
   "cell_type": "code",
   "execution_count": 2,
   "id": "042009df-f14d-4e69-b601-2ba9f2840f8b",
   "metadata": {},
   "outputs": [],
   "source": [
    "import random\n",
    "\n",
    "import numpy as np\n",
    "import torch\n",
    "from PIL import Image\n",
    "\n",
    "# Convert the image to an RGB image to prevent errors during prediction caused by grayscale images.\n",
    "# The code only supports predictions on RGB images, so all other types of images will be converted to RGB.\n",
    "def cvtColor(image):\n",
    "    if len(np.shape(image)) == 3 and np.shape(image)[2] == 3:\n",
    "        return image \n",
    "    else:\n",
    "        image = image.convert('RGB')\n",
    "        return image \n",
    "    \n",
    "# Resize the input image.\n",
    "def resize_image(image, size, letterbox_image):\n",
    "    iw, ih  = image.size\n",
    "    w, h    = size\n",
    "    if letterbox_image:\n",
    "        scale   = min(w/iw, h/ih)\n",
    "        nw      = int(iw*scale)\n",
    "        nh      = int(ih*scale)\n",
    "\n",
    "        image   = image.resize((nw,nh), Image.BICUBIC)\n",
    "        new_image = Image.new('RGB', size, (128,128,128))\n",
    "        new_image.paste(image, ((w-nw)//2, (h-nh)//2))\n",
    "    else:\n",
    "        new_image = image.resize((w, h), Image.BICUBIC)\n",
    "    return new_image\n",
    "\n",
    "# Get the class.\n",
    "def get_classes(classes_path):\n",
    "    with open(classes_path, encoding='utf-8') as f:\n",
    "        class_names = f.readlines()\n",
    "    class_names = [c.strip() for c in class_names]\n",
    "    return class_names, len(class_names)\n",
    "\n",
    "# Get the prior boxes.\n",
    "def get_anchors(anchors_path):\n",
    "    '''loads the anchors from a file'''\n",
    "    with open(anchors_path, encoding='utf-8') as f:\n",
    "        anchors = f.readline()\n",
    "    anchors = [float(x) for x in anchors.split(',')]\n",
    "    anchors = np.array(anchors).reshape(-1, 2)\n",
    "    return anchors, len(anchors)\n",
    "\n",
    "# Get the learning rate.\n",
    "def get_lr(optimizer):\n",
    "    for param_group in optimizer.param_groups:\n",
    "        return param_group['lr']\n",
    "    \n",
    "# Set the seed.\n",
    "def seed_everything(seed=11):\n",
    "    random.seed(seed)\n",
    "    np.random.seed(seed)\n",
    "    torch.manual_seed(seed)\n",
    "    torch.cuda.manual_seed(seed)\n",
    "    torch.cuda.manual_seed_all(seed)\n",
    "    torch.backends.cudnn.deterministic = True\n",
    "    torch.backends.cudnn.benchmark = False\n",
    "\n",
    "# Set the seed for the Dataloader.\n",
    "def worker_init_fn(worker_id, rank, seed):\n",
    "    worker_seed = rank + seed\n",
    "    random.seed(worker_seed)\n",
    "    np.random.seed(worker_seed)\n",
    "    torch.manual_seed(worker_seed)\n",
    "\n",
    "def preprocess_input(image):\n",
    "    image /= 255.0\n",
    "    return image\n",
    "\n",
    "def show_config(**kwargs):\n",
    "    print('Configurations:')\n",
    "    print('-' * 70)\n",
    "    print('|%25s | %40s|' % ('keys', 'values'))\n",
    "    print('-' * 70)\n",
    "    for key, value in kwargs.items():\n",
    "        print('|%25s | %40s|' % (str(key), str(value)))\n",
    "    print('-' * 70)\n"
   ]
  },
  {
   "cell_type": "code",
   "execution_count": null,
   "id": "8eeec4f0-2edd-4419-8a88-91979069af98",
   "metadata": {},
   "outputs": [],
   "source": []
  }
 ],
 "metadata": {
  "kernelspec": {
   "display_name": "PyTorch (GPU)",
   "language": "python",
   "name": "torch_env"
  },
  "language_info": {
   "codemirror_mode": {
    "name": "ipython",
    "version": 3
   },
   "file_extension": ".py",
   "mimetype": "text/x-python",
   "name": "python",
   "nbconvert_exporter": "python",
   "pygments_lexer": "ipython3",
   "version": "3.10.16"
  }
 },
 "nbformat": 4,
 "nbformat_minor": 5
}
